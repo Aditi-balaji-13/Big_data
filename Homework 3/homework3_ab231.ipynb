{
  "nbformat": 4,
  "nbformat_minor": 0,
  "metadata": {
    "colab": {
      "provenance": []
    },
    "kernelspec": {
      "name": "python3",
      "display_name": "Python 3"
    },
    "language_info": {
      "name": "python"
    }
  },
  "cells": [
    {
      "cell_type": "code",
      "execution_count": 2,
      "metadata": {
        "id": "lPqIpnHdYNQ2"
      },
      "outputs": [],
      "source": [
        "import math\n",
        "import numpy as np"
      ]
    },
    {
      "cell_type": "code",
      "source": [
        "def f(x, y):\n",
        "  return math.sin(x + y) + (x - y) ** 2 - 1.5 * x + 2.5 * y + 1"
      ],
      "metadata": {
        "id": "mmK_YNKwZ2rb"
      },
      "execution_count": 4,
      "outputs": []
    },
    {
      "cell_type": "code",
      "source": [
        "def grad_fx(x, y):\n",
        "  return math.cos(x + y) + 2 * (x - y) - 1.5"
      ],
      "metadata": {
        "id": "y7gb5hheZ9_D"
      },
      "execution_count": 5,
      "outputs": []
    },
    {
      "cell_type": "code",
      "source": [
        "def grad_fy(x, y):\n",
        "  return math.cos(x + y) - 2 * (x - y) + 2.5"
      ],
      "metadata": {
        "id": "DbEyvGKYbOEu"
      },
      "execution_count": 6,
      "outputs": []
    },
    {
      "cell_type": "markdown",
      "source": [
        "**Method 1: Gradient descent**"
      ],
      "metadata": {
        "id": "ywDxZssabeDH"
      }
    },
    {
      "cell_type": "code",
      "source": [
        "def gd_optimize(arr):\n",
        "  thresh = 10e-20\n",
        "  lr = 1\n",
        "  out = f(arr[0], arr[1])\n",
        "  x = arr[0]\n",
        "  y = arr[1]\n",
        "  print(out)\n",
        "\n",
        "  #The iteration\n",
        "  while True:\n",
        "    new_x = x - lr * grad_fx(x, y)\n",
        "    new_y = y - lr * grad_fy(x, y)\n",
        "    new_out = f(new_x, new_y)\n",
        "    print(new_out)\n",
        "\n",
        "    #heuristic:\n",
        "    if new_out>out:\n",
        "      lr = lr / 2\n",
        "    else:\n",
        "      lr = lr * 1.1\n",
        "\n",
        "    if abs(new_out - out) < thresh:\n",
        "      print(new_x, new_y)\n",
        "      break\n",
        "\n",
        "    x = new_x\n",
        "    y = new_y\n",
        "    out = new_out"
      ],
      "metadata": {
        "id": "VwVJb5nJbc_R"
      },
      "execution_count": 7,
      "outputs": []
    },
    {
      "cell_type": "code",
      "source": [
        "gd_optimize (np.array ([-0.2, -1.0]))"
      ],
      "metadata": {
        "colab": {
          "base_uri": "https://localhost:8080/"
        },
        "id": "6EkvNsqqd90j",
        "outputId": "bbbd2cee-7c9e-4d2c-d6b1-c4b524815983"
      },
      "execution_count": 8,
      "outputs": [
        {
          "output_type": "stream",
          "name": "stdout",
          "text": [
            "-1.4920390859672263\n",
            "-1.3175387318156826\n",
            "-1.503265873161276\n",
            "-1.3933929562543743\n",
            "-1.9076321773193428\n",
            "-1.912900015321147\n",
            "-1.9131807504289906\n",
            "-1.9132152450977031\n",
            "-1.91322073144749\n",
            "-1.913221746385557\n",
            "-1.9132218772859027\n",
            "-1.9132215459436885\n",
            "-1.9132229477178324\n",
            "-1.913222954748297\n",
            "-1.913222954960514\n",
            "-1.9132229549773028\n",
            "-1.9132229549798279\n",
            "-1.913222954980399\n",
            "-1.9132229549805215\n",
            "-1.913222954980426\n",
            "-1.913222954981035\n",
            "-1.9132229549810367\n",
            "-1.9132229549810367\n",
            "-0.5471975518820887 -1.547197550524929\n"
          ]
        }
      ]
    },
    {
      "cell_type": "code",
      "source": [
        "gd_optimize (np.array ([-0.5, -1.5]))"
      ],
      "metadata": {
        "colab": {
          "base_uri": "https://localhost:8080/"
        },
        "id": "-mJ-x22TeFJi",
        "outputId": "03f73f48-3f65-4d97-d91c-87de4072e278"
      },
      "execution_count": 9,
      "outputs": [
        {
          "output_type": "stream",
          "name": "stdout",
          "text": [
            "-1.909297426825682\n",
            "-1.9109295805761808\n",
            "-1.9114681674883558\n",
            "-1.9110297007042236\n",
            "-1.9132215281704674\n",
            "-1.9132229214706045\n",
            "-1.913222952576786\n",
            "-1.9132229546063524\n",
            "-1.9132229548741102\n",
            "-1.9132229549304762\n",
            "-1.9132229549439543\n",
            "-1.9132229549407707\n",
            "-1.9132229549810185\n",
            "-1.9132229549810362\n",
            "-1.9132229549810358\n",
            "-1.9132229549810367\n",
            "-1.9132229549810362\n",
            "-1.9132229549810367\n",
            "-1.9132229549810367\n",
            "-0.5471975510477202 -1.5471975510478024\n"
          ]
        }
      ]
    },
    {
      "cell_type": "markdown",
      "source": [
        "**Method 2: Newtons**"
      ],
      "metadata": {
        "id": "Ul7ifWMvhHEx"
      }
    },
    {
      "cell_type": "code",
      "source": [
        "def J_inv(x, y):\n",
        "  out_mat = np.zeros((2,2))\n",
        "  out_mat[0, 0] = -math.sin(x + y) + 2 #df/dx2\n",
        "  out_mat[0, 1] = -math.sin(x + y) - 2\n",
        "  out_mat[1, 0] = -math.sin(x + y) - 2\n",
        "  out_mat[1, 1] = -math.sin(x + y) + 2\n",
        "\n",
        "  out_inv = np.linalg.inv(out_mat)\n",
        "  return out_inv\n",
        "\n",
        "def grad_mat(x, y):\n",
        "  out = np.zeros(2)\n",
        "  out[0] = grad_fx(x, y)\n",
        "  out[1] = grad_fy(x, y)\n",
        "  return out"
      ],
      "metadata": {
        "id": "JaMH8W8DhOtE"
      },
      "execution_count": 13,
      "outputs": []
    },
    {
      "cell_type": "code",
      "source": [
        "def nm_optimize(arr):\n",
        "  thresh = 10e-10\n",
        "  out = f(arr[0], arr[1])\n",
        "  x = arr[0]\n",
        "  y = arr[1]\n",
        "  print(out)\n",
        "\n",
        "  #The iteration\n",
        "  while True:\n",
        "    J_in = J_inv(x, y)\n",
        "    F_grad = grad_mat(x, y)\n",
        "    new_arr = arr - np.dot(J_in, np.transpose(F_grad))\n",
        "    new_x = new_arr[0]\n",
        "    new_y = new_arr[1]\n",
        "    new_out = f(new_x, new_y)\n",
        "    print(new_out)\n",
        "\n",
        "    if abs(new_out - out) < thresh:\n",
        "      print(new_x, new_y)\n",
        "      break\n",
        "\n",
        "    x = new_x\n",
        "    y = new_y\n",
        "    arr = new_arr\n",
        "    out = new_out\n"
      ],
      "metadata": {
        "id": "U3B1OmUzeU7O"
      },
      "execution_count": 20,
      "outputs": []
    },
    {
      "cell_type": "code",
      "source": [
        "nm_optimize (np.array ([-0.2, -1.0]))"
      ],
      "metadata": {
        "colab": {
          "base_uri": "https://localhost:8080/"
        },
        "id": "IA2Zipu7edo8",
        "outputId": "f5a16894-9e20-4212-aa7d-38f86ad74f34"
      },
      "execution_count": 21,
      "outputs": [
        {
          "output_type": "stream",
          "name": "stdout",
          "text": [
            "-1.4920390859672263\n",
            "-1.9128135207487111\n",
            "-1.9132229186591214\n",
            "-1.9132229549810362\n",
            "-1.9132229549810362\n",
            "-0.5471975511965976 -1.5471975511965976\n"
          ]
        }
      ]
    },
    {
      "cell_type": "code",
      "source": [
        "nm_optimize (np.array ([-0.5, -1.5]))"
      ],
      "metadata": {
        "colab": {
          "base_uri": "https://localhost:8080/"
        },
        "id": "m-SFAHthfve1",
        "outputId": "2ef67bde-e3dd-4c66-c7fd-c82bada1ac6f"
      },
      "execution_count": 22,
      "outputs": [
        {
          "output_type": "stream",
          "name": "stdout",
          "text": [
            "-1.909297426825682\n",
            "-1.9132209008539096\n",
            "-1.913222954980231\n",
            "-1.9132229549810362\n",
            "-0.5471975511963294 -1.5471975511963294\n"
          ]
        }
      ]
    },
    {
      "cell_type": "code",
      "source": [],
      "metadata": {
        "id": "tJ1btQXQk94J"
      },
      "execution_count": null,
      "outputs": []
    }
  ]
}